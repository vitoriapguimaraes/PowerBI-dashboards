{
 "cells": [
  {
   "cell_type": "code",
   "execution_count": 1,
   "id": "6a2da628",
   "metadata": {},
   "outputs": [],
   "source": [
    "import pandas as pd\n",
    "import numpy as np"
   ]
  },
  {
   "cell_type": "code",
   "execution_count": 2,
   "id": "753c5cdf",
   "metadata": {},
   "outputs": [],
   "source": [
    "hosts = pd.read_csv(\"../data/hosts.csv\", sep=',')\n",
    "reviews = pd.read_csv(\"../data/reviews.csv\", sep=',')"
   ]
  },
  {
   "cell_type": "code",
   "execution_count": 3,
   "id": "27ed8525",
   "metadata": {},
   "outputs": [],
   "source": [
    "rooms_path = \"../data/rooms.csv\"\n",
    "rooms = pd.read_csv(\n",
    "    rooms_path,\n",
    "    sep=\",\",\n",
    "    quotechar='\"',\n",
    "    encoding=\"utf-8\",\n",
    "    on_bad_lines=\"skip\"\n",
    ")"
   ]
  },
  {
   "cell_type": "code",
   "execution_count": 4,
   "id": "87597701",
   "metadata": {},
   "outputs": [],
   "source": [
    "def resume_df(df):\n",
    "    print(f\"Shape: {df.shape}\")\n",
    "    print(f\"NULOS\")\n",
    "    display(df.isnull().sum())\n",
    "    print(f\"DUPLICATAS\")\n",
    "    duplicated_values = df[df.duplicated()]\n",
    "    print(f\"Total de registros duplicados: {len(duplicated_values)}\")"
   ]
  },
  {
   "cell_type": "code",
   "execution_count": 5,
   "id": "1ec1f3e0",
   "metadata": {},
   "outputs": [],
   "source": [
    "def analyse_categorical_variables(df):\n",
    "    display(df.info())\n",
    "    \n",
    "    df.columns = df.columns.str.lower()\n",
    "    cat_cols = df.select_dtypes(include='object').columns\n",
    "    for col in cat_cols:\n",
    "        df[col] = df[col].str.strip().str.lower()\n",
    "    for col in cat_cols:\n",
    "        unique_categories = df[col].unique()\n",
    "        print(f\"\\n{col} == {len(unique_categories)}\")\n",
    "        if len(unique_categories) < 20:\n",
    "            print(unique_categories)"
   ]
  },
  {
   "cell_type": "code",
   "execution_count": 6,
   "id": "d1dfdde5",
   "metadata": {},
   "outputs": [],
   "source": [
    "def analyse_numerical_variables(df):\n",
    "    num_cols = df.select_dtypes(include=['int64', 'float64']).columns\n",
    "    for col in num_cols:\n",
    "        invalid_values = df[~df[col].apply(lambda x: np.isreal(x)) & df[col].notnull()]\n",
    "        if not invalid_values.empty:\n",
    "            print(f\"Inconsistências encontradas em {col}:\")\n",
    "            display(invalid_values)\n",
    "    outliers_dict = {}\n",
    "    for col in num_cols:\n",
    "        q1 = df[col].quantile(0.25)\n",
    "        q3 = df[col].quantile(0.75)\n",
    "        iqr = q3 - q1\n",
    "        limits = (q1 - 1.5*iqr, q3 + 1.5*iqr)\n",
    "        outliers = df[(df[col] < limits[0]) | (df[col] > limits[1])]\n",
    "        print(f\"{col}: {len(outliers)} outliers identificados.\")\n",
    "        outliers_dict[col] = len(outliers)"
   ]
  },
  {
   "cell_type": "markdown",
   "id": "2dc64d9e",
   "metadata": {},
   "source": [
    "### Hosts"
   ]
  },
  {
   "cell_type": "code",
   "execution_count": 7,
   "id": "0b2a9762",
   "metadata": {},
   "outputs": [
    {
     "name": "stdout",
     "output_type": "stream",
     "text": [
      "Shape: (37484, 2)\n",
      "NULOS\n"
     ]
    },
    {
     "data": {
      "text/plain": [
       "host_id       0\n",
       "host_name    18\n",
       "dtype: int64"
      ]
     },
     "metadata": {},
     "output_type": "display_data"
    },
    {
     "name": "stdout",
     "output_type": "stream",
     "text": [
      "DUPLICATAS\n",
      "Total de registros duplicados: 0\n"
     ]
    }
   ],
   "source": [
    "resume_df(hosts)"
   ]
  },
  {
   "cell_type": "code",
   "execution_count": 8,
   "id": "a2122ffa",
   "metadata": {},
   "outputs": [],
   "source": [
    "hosts = hosts.dropna()"
   ]
  },
  {
   "cell_type": "code",
   "execution_count": 9,
   "id": "980d5c0e",
   "metadata": {},
   "outputs": [
    {
     "name": "stdout",
     "output_type": "stream",
     "text": [
      "<class 'pandas.core.frame.DataFrame'>\n",
      "Index: 37466 entries, 0 to 37483\n",
      "Data columns (total 2 columns):\n",
      " #   Column     Non-Null Count  Dtype \n",
      "---  ------     --------------  ----- \n",
      " 0   host_id    37466 non-null  object\n",
      " 1   host_name  37466 non-null  object\n",
      "dtypes: object(2)\n",
      "memory usage: 878.1+ KB\n"
     ]
    },
    {
     "data": {
      "text/plain": [
       "None"
      ]
     },
     "metadata": {},
     "output_type": "display_data"
    },
    {
     "name": "stdout",
     "output_type": "stream",
     "text": [
      "\n",
      "host_id == 37461\n",
      "\n",
      "host_name == 11399\n"
     ]
    }
   ],
   "source": [
    "analyse_categorical_variables(hosts)"
   ]
  },
  {
   "cell_type": "code",
   "execution_count": 10,
   "id": "211d8442",
   "metadata": {},
   "outputs": [],
   "source": [
    "# Corrigindo id\n",
    "mask_hosts = pd.to_numeric(hosts['host_id'], errors='coerce').isna()\n",
    "hosts = hosts[~mask_hosts].copy()\n",
    "hosts['host_id'] = pd.to_numeric(hosts['host_id'])"
   ]
  },
  {
   "cell_type": "markdown",
   "id": "c9eb0109",
   "metadata": {},
   "source": [
    "### Reviews"
   ]
  },
  {
   "cell_type": "code",
   "execution_count": 11,
   "id": "04d14280",
   "metadata": {},
   "outputs": [
    {
     "name": "stdout",
     "output_type": "stream",
     "text": [
      "Shape: (48875, 8)\n",
      "NULOS\n"
     ]
    },
    {
     "data": {
      "text/plain": [
       "id                                    0\n",
       "host_id                               0\n",
       "price                                 0\n",
       "number_of_reviews                    20\n",
       "last_review                       10039\n",
       "reviews_per_month                 10019\n",
       "calculated_host_listings_count        0\n",
       "availability_365                    156\n",
       "dtype: int64"
      ]
     },
     "metadata": {},
     "output_type": "display_data"
    },
    {
     "name": "stdout",
     "output_type": "stream",
     "text": [
      "DUPLICATAS\n",
      "Total de registros duplicados: 0\n"
     ]
    }
   ],
   "source": [
    "resume_df(reviews)"
   ]
  },
  {
   "cell_type": "code",
   "execution_count": 12,
   "id": "caf38fdf",
   "metadata": {},
   "outputs": [],
   "source": [
    "# Remover linhas com valores nulos em 'price' e 'availability_365'\n",
    "reviews = reviews.dropna(subset=['price', 'availability_365'])\n",
    "\n",
    "# Substituir valores nulos em 'last_review' e 'reviews_per_month' por -1\n",
    "reviews['last_review'] = reviews['last_review'].fillna(-1)\n",
    "reviews['reviews_per_month'] = reviews['reviews_per_month'].fillna(-1)"
   ]
  },
  {
   "cell_type": "code",
   "execution_count": 13,
   "id": "82de8a2a",
   "metadata": {},
   "outputs": [
    {
     "name": "stdout",
     "output_type": "stream",
     "text": [
      "<class 'pandas.core.frame.DataFrame'>\n",
      "Index: 48719 entries, 0 to 48874\n",
      "Data columns (total 8 columns):\n",
      " #   Column                          Non-Null Count  Dtype  \n",
      "---  ------                          --------------  -----  \n",
      " 0   id                              48719 non-null  object \n",
      " 1   host_id                         48719 non-null  object \n",
      " 2   price                           48719 non-null  int64  \n",
      " 3   number_of_reviews               48719 non-null  object \n",
      " 4   last_review                     48719 non-null  object \n",
      " 5   reviews_per_month               48719 non-null  float64\n",
      " 6   calculated_host_listings_count  48719 non-null  int64  \n",
      " 7   availability_365                48719 non-null  float64\n",
      "dtypes: float64(2), int64(2), object(4)\n",
      "memory usage: 3.3+ MB\n"
     ]
    },
    {
     "data": {
      "text/plain": [
       "None"
      ]
     },
     "metadata": {},
     "output_type": "display_data"
    },
    {
     "name": "stdout",
     "output_type": "stream",
     "text": [
      "\n",
      "id == 48719\n",
      "\n",
      "host_id == 37347\n",
      "\n",
      "number_of_reviews == 394\n",
      "\n",
      "last_review == 1765\n"
     ]
    }
   ],
   "source": [
    "analyse_categorical_variables(reviews)"
   ]
  },
  {
   "cell_type": "code",
   "execution_count": 14,
   "id": "2e7491a4",
   "metadata": {},
   "outputs": [],
   "source": [
    "# number_of_reviews: object -> int\n",
    "reviews['number_of_reviews'] = reviews['number_of_reviews'].astype(int)\n",
    "\n",
    "# last_review: object -> datatime\n",
    "reviews['last_review'] = pd.to_datetime(reviews['last_review'], errors='coerce')"
   ]
  },
  {
   "cell_type": "code",
   "execution_count": 15,
   "id": "c752cc14",
   "metadata": {},
   "outputs": [],
   "source": [
    "# Corrigindo id\n",
    "mask_reviews = pd.to_numeric(reviews['id'], errors='coerce').isna()\n",
    "reviews = reviews[~mask_reviews].copy()\n",
    "reviews['id'] = pd.to_numeric(reviews['id'])\n",
    "\n",
    "# host_id: object -> int\n",
    "reviews['host_id'] = reviews['host_id'].astype(int)"
   ]
  },
  {
   "cell_type": "code",
   "execution_count": 16,
   "id": "3a3c34db",
   "metadata": {},
   "outputs": [
    {
     "name": "stdout",
     "output_type": "stream",
     "text": [
      "<class 'pandas.core.frame.DataFrame'>\n",
      "Index: 48710 entries, 0 to 48874\n",
      "Data columns (total 8 columns):\n",
      " #   Column                          Non-Null Count  Dtype         \n",
      "---  ------                          --------------  -----         \n",
      " 0   id                              48710 non-null  int64         \n",
      " 1   host_id                         48710 non-null  int64         \n",
      " 2   price                           48710 non-null  int64         \n",
      " 3   number_of_reviews               48710 non-null  int64         \n",
      " 4   last_review                     38694 non-null  datetime64[ns]\n",
      " 5   reviews_per_month               48710 non-null  float64       \n",
      " 6   calculated_host_listings_count  48710 non-null  int64         \n",
      " 7   availability_365                48710 non-null  float64       \n",
      "dtypes: datetime64[ns](1), float64(2), int64(5)\n",
      "memory usage: 3.3 MB\n"
     ]
    }
   ],
   "source": [
    "reviews.info()"
   ]
  },
  {
   "cell_type": "code",
   "execution_count": 17,
   "id": "8a615cb1",
   "metadata": {},
   "outputs": [
    {
     "name": "stdout",
     "output_type": "stream",
     "text": [
      "id: 0 outliers identificados.\n",
      "host_id: 1514 outliers identificados.\n",
      "price: 2962 outliers identificados.\n",
      "number_of_reviews: 6098 outliers identificados.\n",
      "reviews_per_month: 3288 outliers identificados.\n",
      "calculated_host_listings_count: 7055 outliers identificados.\n",
      "availability_365: 0 outliers identificados.\n"
     ]
    }
   ],
   "source": [
    "analyse_numerical_variables(reviews)"
   ]
  },
  {
   "cell_type": "markdown",
   "id": "51fcd88a",
   "metadata": {},
   "source": [
    "### Rooms"
   ]
  },
  {
   "cell_type": "code",
   "execution_count": 18,
   "id": "d825d47c",
   "metadata": {},
   "outputs": [
    {
     "name": "stdout",
     "output_type": "stream",
     "text": [
      "Shape: (48875, 8)\n",
      "NULOS\n"
     ]
    },
    {
     "data": {
      "text/plain": [
       "id                     0\n",
       "name                   0\n",
       "neighbourhood          0\n",
       "neighbourhood_group    0\n",
       "latitude               0\n",
       "longitude              0\n",
       "room_type              0\n",
       "minimum_nights         0\n",
       "dtype: int64"
      ]
     },
     "metadata": {},
     "output_type": "display_data"
    },
    {
     "name": "stdout",
     "output_type": "stream",
     "text": [
      "DUPLICATAS\n",
      "Total de registros duplicados: 0\n"
     ]
    }
   ],
   "source": [
    "resume_df(rooms)"
   ]
  },
  {
   "cell_type": "code",
   "execution_count": 19,
   "id": "6a2e48bd",
   "metadata": {},
   "outputs": [
    {
     "name": "stdout",
     "output_type": "stream",
     "text": [
      "<class 'pandas.core.frame.DataFrame'>\n",
      "RangeIndex: 48875 entries, 0 to 48874\n",
      "Data columns (total 8 columns):\n",
      " #   Column               Non-Null Count  Dtype  \n",
      "---  ------               --------------  -----  \n",
      " 0   id                   48875 non-null  object \n",
      " 1   name                 48875 non-null  object \n",
      " 2   neighbourhood        48875 non-null  object \n",
      " 3   neighbourhood_group  48875 non-null  object \n",
      " 4   latitude             48875 non-null  float64\n",
      " 5   longitude            48875 non-null  object \n",
      " 6   room_type            48875 non-null  object \n",
      " 7   minimum_nights       48875 non-null  int64  \n",
      "dtypes: float64(1), int64(1), object(6)\n",
      "memory usage: 3.0+ MB\n"
     ]
    },
    {
     "data": {
      "text/plain": [
       "None"
      ]
     },
     "metadata": {},
     "output_type": "display_data"
    },
    {
     "name": "stdout",
     "output_type": "stream",
     "text": [
      "\n",
      "id == 48862\n",
      "\n",
      "name == 47437\n",
      "\n",
      "neighbourhood == 377\n",
      "\n",
      "neighbourhood_group == 68\n",
      "\n",
      "longitude == 14686\n",
      "\n",
      "room_type == 77\n"
     ]
    }
   ],
   "source": [
    "analyse_categorical_variables(rooms)"
   ]
  },
  {
   "cell_type": "code",
   "execution_count": 20,
   "id": "1f7a7b26",
   "metadata": {},
   "outputs": [],
   "source": [
    "# Converter colunas para os tipos corretos\n",
    "rooms['id'] = pd.to_numeric(rooms['id'], errors='coerce').astype('Int64')\n",
    "rooms['latitude'] = pd.to_numeric(rooms['latitude'], errors='coerce')\n",
    "rooms['longitude'] = pd.to_numeric(rooms['longitude'], errors='coerce')\n",
    "rooms['minimum_nights'] = pd.to_numeric(rooms['minimum_nights'], errors='coerce').astype('Int64')\n",
    "\n",
    "# Remover espaços extras em colunas de texto\n",
    "for col in ['name', 'neighbourhood', 'neighbourhood_group', 'room_type']:\n",
    "    rooms[col] = rooms[col].astype(str).str.strip()\n"
   ]
  },
  {
   "cell_type": "markdown",
   "id": "9e947331",
   "metadata": {},
   "source": [
    "### Export"
   ]
  },
  {
   "cell_type": "code",
   "execution_count": 21,
   "id": "1de56436",
   "metadata": {},
   "outputs": [],
   "source": [
    "hosts.to_csv(\"../data/clean_data/hosts_clean.csv\", sep=\",\", index=False, encoding=\"utf-8\")\n",
    "reviews.to_csv(\"../data/clean_data/reviews_clean.csv\", sep=\",\", index=False, encoding=\"utf-8\")\n",
    "rooms.to_csv(\"../data/clean_data/rooms_clean.csv\", sep=\",\", index=False, encoding=\"utf-8\")"
   ]
  }
 ],
 "metadata": {
  "kernelspec": {
   "display_name": "py12_lab",
   "language": "python",
   "name": "python3"
  },
  "language_info": {
   "codemirror_mode": {
    "name": "ipython",
    "version": 3
   },
   "file_extension": ".py",
   "mimetype": "text/x-python",
   "name": "python",
   "nbconvert_exporter": "python",
   "pygments_lexer": "ipython3",
   "version": "3.12.0"
  }
 },
 "nbformat": 4,
 "nbformat_minor": 5
}
