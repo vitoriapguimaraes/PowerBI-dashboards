{
 "cells": [
  {
   "cell_type": "code",
   "execution_count": 33,
   "id": "6a2da628",
   "metadata": {},
   "outputs": [],
   "source": [
    "\"\"\"\n",
    "Data cleaning and preprocessing script for Airbnb dataset analysis.\n",
    "This script handles three main datasets: hosts, reviews, and rooms.\n",
    "\"\"\"\n",
    "\n",
    "import pandas as pd\n",
    "import numpy as np\n",
    "import locale"
   ]
  },
  {
   "cell_type": "code",
   "execution_count": 34,
   "id": "753c5cdf",
   "metadata": {},
   "outputs": [],
   "source": [
    "# Load main datasets\n",
    "DATA_PATH = \"../data\"\n",
    "hosts_df = pd.read_csv(f\"{DATA_PATH}/hosts.csv\", sep=',')\n",
    "reviews_df = pd.read_csv(f\"{DATA_PATH}/reviews.csv\", sep=',')"
   ]
  },
  {
   "cell_type": "code",
   "execution_count": 35,
   "id": "27ed8525",
   "metadata": {},
   "outputs": [],
   "source": [
    "# Load rooms dataset with specific parsing parameters\n",
    "rooms_df = pd.read_csv(\n",
    "    f\"{DATA_PATH}/rooms.csv\",\n",
    "    sep=\",\",\n",
    "    quotechar='\"',\n",
    "    encoding=\"utf-8\",\n",
    "    on_bad_lines=\"skip\"  # Skip problematic rows\n",
    ")"
   ]
  },
  {
   "cell_type": "code",
   "execution_count": 36,
   "id": "87597701",
   "metadata": {},
   "outputs": [],
   "source": [
    "def analyze_dataframe_quality(df: pd.DataFrame) -> None:\n",
    "    \"\"\"\n",
    "    Analyze basic quality metrics of a dataframe.\n",
    "    \n",
    "    Args:\n",
    "        df: pandas DataFrame to analyze\n",
    "    \"\"\"\n",
    "    print(f\"Shape: {df.shape}\")\n",
    "    print(\"\\nMissing Values:\")\n",
    "    display(df.isnull().sum())\n",
    "    print(\"\\nDuplicate Records:\")\n",
    "    duplicate_count = len(df[df.duplicated()])\n",
    "    print(f\"Total duplicate records: {duplicate_count}\")"
   ]
  },
  {
   "cell_type": "code",
   "execution_count": 37,
   "id": "1ec1f3e0",
   "metadata": {},
   "outputs": [],
   "source": [
    "def analyze_categorical_columns(df: pd.DataFrame) -> None:\n",
    "    \"\"\"\n",
    "    Analyze categorical columns in a dataframe.\n",
    "    \n",
    "    Args:\n",
    "        df: pandas DataFrame to analyze\n",
    "    \"\"\"\n",
    "    # Display basic information about the dataframe\n",
    "    display(df.info())\n",
    "    \n",
    "    # Standardize column names\n",
    "    df.columns = df.columns.str.lower()\n",
    "    \n",
    "    # Process categorical columns\n",
    "    categorical_cols = df.select_dtypes(include='object').columns\n",
    "    \n",
    "    # Clean and analyze each categorical column\n",
    "    for col in categorical_cols:\n",
    "        # Clean string values\n",
    "        df[col] = df[col].str.strip().str.lower()\n",
    "        \n",
    "        # Analyze unique values\n",
    "        unique_values = df[col].unique()\n",
    "        print(f\"\\nColumn: {col} | Unique values: {len(unique_values)}\")\n",
    "        \n",
    "        # Display unique values if less than 20 categories\n",
    "        if len(unique_values) < 20:\n",
    "            print(\"Categories:\", unique_values)"
   ]
  },
  {
   "cell_type": "code",
   "execution_count": 38,
   "id": "d1dfdde5",
   "metadata": {},
   "outputs": [],
   "source": [
    "def analyze_numerical_columns(df: pd.DataFrame) -> dict:\n",
    "    \"\"\"\n",
    "    Analyze numerical columns for inconsistencies and outliers.\n",
    "    \n",
    "    Args:\n",
    "        df: pandas DataFrame to analyze\n",
    "    \n",
    "    Returns:\n",
    "        dict: Dictionary containing outlier counts per column\n",
    "    \"\"\"\n",
    "    numerical_cols = df.select_dtypes(include=['int64', 'float64']).columns\n",
    "    outliers_summary = {}\n",
    "    \n",
    "    # Check for invalid numerical values\n",
    "    for col in numerical_cols:\n",
    "        invalid_mask = ~df[col].apply(lambda x: np.isreal(x)) & df[col].notnull()\n",
    "        invalid_records = df[invalid_mask]\n",
    "        \n",
    "        if not invalid_records.empty:\n",
    "            print(f\"Invalid values found in {col}:\")\n",
    "            display(invalid_records)\n",
    "    \n",
    "    # Detect outliers using IQR method\n",
    "    for col in numerical_cols:\n",
    "        q1 = df[col].quantile(0.25)\n",
    "        q3 = df[col].quantile(0.75)\n",
    "        iqr = q3 - q1\n",
    "        \n",
    "        lower_bound = q1 - 1.5 * iqr\n",
    "        upper_bound = q3 + 1.5 * iqr\n",
    "        \n",
    "        outliers = df[(df[col] < lower_bound) | (df[col] > upper_bound)]\n",
    "        outliers_summary[col] = len(outliers)\n",
    "        print(f\"{col}: {len(outliers)} outliers detected\")\n",
    "    \n",
    "    return outliers_summary"
   ]
  },
  {
   "cell_type": "markdown",
   "id": "2dc64d9e",
   "metadata": {},
   "source": [
    "### Hosts"
   ]
  },
  {
   "cell_type": "code",
   "execution_count": 39,
   "id": "0b2a9762",
   "metadata": {},
   "outputs": [
    {
     "name": "stdout",
     "output_type": "stream",
     "text": [
      "Shape: (37484, 2)\n",
      "\n",
      "Missing Values:\n"
     ]
    },
    {
     "data": {
      "text/plain": [
       "host_id       0\n",
       "host_name    18\n",
       "dtype: int64"
      ]
     },
     "metadata": {},
     "output_type": "display_data"
    },
    {
     "name": "stdout",
     "output_type": "stream",
     "text": [
      "\n",
      "Duplicate Records:\n",
      "Total duplicate records: 0\n"
     ]
    }
   ],
   "source": [
    "analyze_dataframe_quality(hosts_df)"
   ]
  },
  {
   "cell_type": "code",
   "execution_count": 40,
   "id": "a2122ffa",
   "metadata": {},
   "outputs": [],
   "source": [
    "hosts_df = hosts_df.dropna()"
   ]
  },
  {
   "cell_type": "code",
   "execution_count": 41,
   "id": "980d5c0e",
   "metadata": {},
   "outputs": [
    {
     "name": "stdout",
     "output_type": "stream",
     "text": [
      "<class 'pandas.core.frame.DataFrame'>\n",
      "Index: 37466 entries, 0 to 37483\n",
      "Data columns (total 2 columns):\n",
      " #   Column     Non-Null Count  Dtype \n",
      "---  ------     --------------  ----- \n",
      " 0   host_id    37466 non-null  object\n",
      " 1   host_name  37466 non-null  object\n",
      "dtypes: object(2)\n",
      "memory usage: 878.1+ KB\n"
     ]
    },
    {
     "data": {
      "text/plain": [
       "None"
      ]
     },
     "metadata": {},
     "output_type": "display_data"
    },
    {
     "name": "stdout",
     "output_type": "stream",
     "text": [
      "\n",
      "Column: host_id | Unique values: 37461\n",
      "\n",
      "Column: host_name | Unique values: 11399\n"
     ]
    }
   ],
   "source": [
    "analyze_categorical_columns(hosts_df)"
   ]
  },
  {
   "cell_type": "code",
   "execution_count": 42,
   "id": "211d8442",
   "metadata": {},
   "outputs": [],
   "source": [
    "# Corrigindo id\n",
    "mask_hosts = pd.to_numeric(hosts_df['host_id'], errors='coerce').isna()\n",
    "hosts_df = hosts_df[~mask_hosts].copy()\n",
    "hosts_df['host_id'] = pd.to_numeric(hosts_df['host_id'])"
   ]
  },
  {
   "cell_type": "markdown",
   "id": "c9eb0109",
   "metadata": {},
   "source": [
    "### Reviews"
   ]
  },
  {
   "cell_type": "code",
   "execution_count": 43,
   "id": "04d14280",
   "metadata": {},
   "outputs": [
    {
     "name": "stdout",
     "output_type": "stream",
     "text": [
      "Shape: (48875, 8)\n",
      "\n",
      "Missing Values:\n"
     ]
    },
    {
     "data": {
      "text/plain": [
       "id                                    0\n",
       "host_id                               0\n",
       "price                                 0\n",
       "number_of_reviews                    20\n",
       "last_review                       10039\n",
       "reviews_per_month                 10019\n",
       "calculated_host_listings_count        0\n",
       "availability_365                    156\n",
       "dtype: int64"
      ]
     },
     "metadata": {},
     "output_type": "display_data"
    },
    {
     "name": "stdout",
     "output_type": "stream",
     "text": [
      "\n",
      "Duplicate Records:\n",
      "Total duplicate records: 0\n"
     ]
    }
   ],
   "source": [
    "analyze_dataframe_quality(reviews_df)"
   ]
  },
  {
   "cell_type": "code",
   "execution_count": 44,
   "id": "caf38fdf",
   "metadata": {},
   "outputs": [],
   "source": [
    "# Remover linhas com valores nulos em 'price' e 'availability_365'\n",
    "reviews_df = reviews_df.dropna(subset=['price', 'availability_365'])\n",
    "\n",
    "# Substituir valores nulos em 'last_review' e 'reviews_per_month' por -1\n",
    "reviews_df['reviews_per_month'] = reviews_df['reviews_per_month'].fillna(-1)"
   ]
  },
  {
   "cell_type": "code",
   "execution_count": 45,
   "id": "82de8a2a",
   "metadata": {},
   "outputs": [
    {
     "name": "stdout",
     "output_type": "stream",
     "text": [
      "<class 'pandas.core.frame.DataFrame'>\n",
      "Index: 48719 entries, 0 to 48874\n",
      "Data columns (total 8 columns):\n",
      " #   Column                          Non-Null Count  Dtype  \n",
      "---  ------                          --------------  -----  \n",
      " 0   id                              48719 non-null  object \n",
      " 1   host_id                         48719 non-null  object \n",
      " 2   price                           48719 non-null  int64  \n",
      " 3   number_of_reviews               48719 non-null  object \n",
      " 4   last_review                     38700 non-null  object \n",
      " 5   reviews_per_month               48719 non-null  float64\n",
      " 6   calculated_host_listings_count  48719 non-null  int64  \n",
      " 7   availability_365                48719 non-null  float64\n",
      "dtypes: float64(2), int64(2), object(4)\n",
      "memory usage: 3.3+ MB\n"
     ]
    },
    {
     "data": {
      "text/plain": [
       "None"
      ]
     },
     "metadata": {},
     "output_type": "display_data"
    },
    {
     "name": "stdout",
     "output_type": "stream",
     "text": [
      "\n",
      "Column: id | Unique values: 48719\n",
      "\n",
      "Column: host_id | Unique values: 37347\n",
      "\n",
      "Column: number_of_reviews | Unique values: 394\n",
      "\n",
      "Column: last_review | Unique values: 1765\n"
     ]
    }
   ],
   "source": [
    "analyze_categorical_columns(reviews_df)"
   ]
  },
  {
   "cell_type": "code",
   "execution_count": 46,
   "id": "2e7491a4",
   "metadata": {},
   "outputs": [],
   "source": [
    "# number_of_reviews: object -> int\n",
    "reviews_df['number_of_reviews'] = reviews_df['number_of_reviews'].astype(int)\n",
    "\n",
    "# availability_365: float -> int\n",
    "reviews_df['availability_365'] = reviews_df['availability_365'].astype(int)\n",
    "\n",
    "# last_review: object -> datatime\n",
    "reviews_df['last_review'] = pd.to_datetime(reviews_df['last_review'], errors='coerce')\n",
    "reviews_df['last_review'] = reviews_df['last_review'].fillna(-1)"
   ]
  },
  {
   "cell_type": "code",
   "execution_count": 47,
   "id": "c752cc14",
   "metadata": {},
   "outputs": [],
   "source": [
    "# Corrigindo id\n",
    "mask_reviews_df = pd.to_numeric(reviews_df['id'], errors='coerce').isna()\n",
    "reviews_df = reviews_df[~mask_reviews_df].copy()\n",
    "reviews_df['id'] = pd.to_numeric(reviews_df['id'])\n",
    "\n",
    "# host_id: object -> int\n",
    "reviews_df['host_id'] = reviews_df['host_id'].astype(int)"
   ]
  },
  {
   "cell_type": "code",
   "execution_count": 48,
   "id": "3a3c34db",
   "metadata": {},
   "outputs": [
    {
     "name": "stdout",
     "output_type": "stream",
     "text": [
      "<class 'pandas.core.frame.DataFrame'>\n",
      "Index: 48710 entries, 0 to 48874\n",
      "Data columns (total 8 columns):\n",
      " #   Column                          Non-Null Count  Dtype  \n",
      "---  ------                          --------------  -----  \n",
      " 0   id                              48710 non-null  int64  \n",
      " 1   host_id                         48710 non-null  int64  \n",
      " 2   price                           48710 non-null  int64  \n",
      " 3   number_of_reviews               48710 non-null  int64  \n",
      " 4   last_review                     48710 non-null  object \n",
      " 5   reviews_per_month               48710 non-null  float64\n",
      " 6   calculated_host_listings_count  48710 non-null  int64  \n",
      " 7   availability_365                48710 non-null  int64  \n",
      "dtypes: float64(1), int64(6), object(1)\n",
      "memory usage: 3.3+ MB\n"
     ]
    }
   ],
   "source": [
    "reviews_df.info()"
   ]
  },
  {
   "cell_type": "code",
   "execution_count": 49,
   "id": "8a615cb1",
   "metadata": {},
   "outputs": [
    {
     "name": "stdout",
     "output_type": "stream",
     "text": [
      "id: 0 outliers detected\n",
      "host_id: 1514 outliers detected\n",
      "price: 2962 outliers detected\n",
      "number_of_reviews: 6098 outliers detected\n",
      "reviews_per_month: 3288 outliers detected\n",
      "calculated_host_listings_count: 7055 outliers detected\n",
      "availability_365: 0 outliers detected\n"
     ]
    },
    {
     "data": {
      "text/plain": [
       "{'id': 0,\n",
       " 'host_id': 1514,\n",
       " 'price': 2962,\n",
       " 'number_of_reviews': 6098,\n",
       " 'reviews_per_month': 3288,\n",
       " 'calculated_host_listings_count': 7055,\n",
       " 'availability_365': 0}"
      ]
     },
     "execution_count": 49,
     "metadata": {},
     "output_type": "execute_result"
    }
   ],
   "source": [
    "analyze_numerical_columns(reviews_df)"
   ]
  },
  {
   "cell_type": "markdown",
   "id": "51fcd88a",
   "metadata": {},
   "source": [
    "### Rooms"
   ]
  },
  {
   "cell_type": "code",
   "execution_count": 50,
   "id": "d825d47c",
   "metadata": {},
   "outputs": [
    {
     "name": "stdout",
     "output_type": "stream",
     "text": [
      "Shape: (48875, 8)\n",
      "\n",
      "Missing Values:\n"
     ]
    },
    {
     "data": {
      "text/plain": [
       "id                     0\n",
       "name                   0\n",
       "neighbourhood          0\n",
       "neighbourhood_group    0\n",
       "latitude               0\n",
       "longitude              0\n",
       "room_type              0\n",
       "minimum_nights         0\n",
       "dtype: int64"
      ]
     },
     "metadata": {},
     "output_type": "display_data"
    },
    {
     "name": "stdout",
     "output_type": "stream",
     "text": [
      "\n",
      "Duplicate Records:\n",
      "Total duplicate records: 0\n"
     ]
    }
   ],
   "source": [
    "analyze_dataframe_quality(rooms_df)"
   ]
  },
  {
   "cell_type": "code",
   "execution_count": 51,
   "id": "6a2e48bd",
   "metadata": {},
   "outputs": [
    {
     "name": "stdout",
     "output_type": "stream",
     "text": [
      "<class 'pandas.core.frame.DataFrame'>\n",
      "RangeIndex: 48875 entries, 0 to 48874\n",
      "Data columns (total 8 columns):\n",
      " #   Column               Non-Null Count  Dtype  \n",
      "---  ------               --------------  -----  \n",
      " 0   id                   48875 non-null  object \n",
      " 1   name                 48875 non-null  object \n",
      " 2   neighbourhood        48875 non-null  object \n",
      " 3   neighbourhood_group  48875 non-null  object \n",
      " 4   latitude             48875 non-null  float64\n",
      " 5   longitude            48875 non-null  object \n",
      " 6   room_type            48875 non-null  object \n",
      " 7   minimum_nights       48875 non-null  int64  \n",
      "dtypes: float64(1), int64(1), object(6)\n",
      "memory usage: 3.0+ MB\n"
     ]
    },
    {
     "data": {
      "text/plain": [
       "None"
      ]
     },
     "metadata": {},
     "output_type": "display_data"
    },
    {
     "name": "stdout",
     "output_type": "stream",
     "text": [
      "\n",
      "Column: id | Unique values: 48862\n",
      "\n",
      "Column: name | Unique values: 47437\n",
      "\n",
      "Column: neighbourhood | Unique values: 377\n",
      "\n",
      "Column: neighbourhood_group | Unique values: 68\n",
      "\n",
      "Column: longitude | Unique values: 14686\n",
      "\n",
      "Column: room_type | Unique values: 77\n"
     ]
    }
   ],
   "source": [
    "analyze_categorical_columns(rooms_df)"
   ]
  },
  {
   "cell_type": "code",
   "execution_count": 52,
   "id": "1f7a7b26",
   "metadata": {},
   "outputs": [],
   "source": [
    "# Converter colunas para os tipos corretos\n",
    "rooms_df['id'] = pd.to_numeric(rooms_df['id'], errors='coerce').astype('Int64')\n",
    "rooms_df['minimum_nights'] = pd.to_numeric(rooms_df['minimum_nights'], errors='coerce').astype('Int64')\n",
    "\n",
    "# Remover espaços extras em colunas de texto\n",
    "for col in ['name', 'neighbourhood', 'neighbourhood_group', 'room_type']:\n",
    "    rooms_df[col] = rooms_df[col].astype(str).str.strip()"
   ]
  },
  {
   "cell_type": "code",
   "execution_count": 53,
   "id": "541dfcec",
   "metadata": {},
   "outputs": [],
   "source": [
    "rooms_df = rooms_df.dropna()"
   ]
  },
  {
   "cell_type": "markdown",
   "id": "9e947331",
   "metadata": {},
   "source": [
    "### Export"
   ]
  },
  {
   "cell_type": "code",
   "execution_count": 54,
   "id": "998da145",
   "metadata": {},
   "outputs": [],
   "source": [
    "def export_for_power_bi(df: pd.DataFrame, output_path: str) -> None:\n",
    "    \"\"\"\n",
    "    Export DataFrame to CSV with proper decimal formatting for Power BI.\n",
    "    \n",
    "    Args:\n",
    "        df: pandas DataFrame to export\n",
    "        output_path: path where the CSV file will be saved\n",
    "    \"\"\"\n",
    "    # Set system locale for decimal separator detection\n",
    "    locale.setlocale(locale.LC_ALL, '')\n",
    "    decimal_separator = locale.localeconv()['decimal_point']\n",
    "    \n",
    "    # Create copy for export\n",
    "    df_export = df.copy()\n",
    "    \n",
    "    # Handle decimal separator for geographical coordinates\n",
    "    if decimal_separator == ',':\n",
    "        for col in ['latitude', 'longitude']:\n",
    "            if col in df_export.columns:\n",
    "                df_export[col] = df_export[col].astype(str).str.replace('.', ',')\n",
    "    \n",
    "    # Export with proper encoding\n",
    "    df_export.to_csv(\n",
    "        output_path,\n",
    "        index=False,\n",
    "        encoding='utf-8',\n",
    "        sep=';'  # Standard separator for Excel in non-English locales\n",
    "    )\n",
    "    print(f\"File exported successfully: {output_path}\")"
   ]
  },
  {
   "cell_type": "code",
   "execution_count": 55,
   "id": "52ba9cf5",
   "metadata": {},
   "outputs": [
    {
     "name": "stdout",
     "output_type": "stream",
     "text": [
      "File exported successfully: ../data/clean_data/hosts_clean.csv\n",
      "File exported successfully: ../data/clean_data/reviews_clean.csv\n",
      "File exported successfully: ../data/clean_data/rooms_clean.csv\n"
     ]
    }
   ],
   "source": [
    "# Export cleaned datasets\n",
    "CLEAN_DATA_PATH = \"../data/clean_data\"\n",
    "export_for_power_bi(hosts_df, f\"{CLEAN_DATA_PATH}/hosts_clean.csv\")\n",
    "export_for_power_bi(reviews_df, f\"{CLEAN_DATA_PATH}/reviews_clean.csv\")\n",
    "export_for_power_bi(rooms_df, f\"{CLEAN_DATA_PATH}/rooms_clean.csv\")"
   ]
  }
 ],
 "metadata": {
  "kernelspec": {
   "display_name": "py12_lab",
   "language": "python",
   "name": "python3"
  },
  "language_info": {
   "codemirror_mode": {
    "name": "ipython",
    "version": 3
   },
   "file_extension": ".py",
   "mimetype": "text/x-python",
   "name": "python",
   "nbconvert_exporter": "python",
   "pygments_lexer": "ipython3",
   "version": "3.12.0"
  }
 },
 "nbformat": 4,
 "nbformat_minor": 5
}
